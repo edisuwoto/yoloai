{
 "cells": [
  {
   "cell_type": "markdown",
   "source": [
    "# Module 7: Feature Matching and Object Tracking\n",
    "## Tujuan\n",
    "- Melacak objek dalam video menggunakan OpenCV tracker"
   ],
   "metadata": {}
  },
  {
   "cell_type": "code",
   "source": [
    "import cv2\n",
    "tracker = cv2.TrackerKCF_create()\n",
    "# Catatan: Jalankan ini di lingkungan yang bisa akses webcam/video"
   ],
   "metadata": {},
   "execution_count": null,
   "outputs": []
  }
 ],
 "metadata": {
  "kernelspec": {
   "display_name": "Python 3",
   "language": "python",
   "name": "python3"
  }
 },
 "nbformat": 4,
 "nbformat_minor": 2
}