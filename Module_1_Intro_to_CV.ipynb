{
 "cells": [
  {
   "cell_type": "markdown",
   "metadata": {},
   "source": [
    "# Module 1: Introduction to Computer Vision\n",
    "\n",
    "- What is Computer Vision?\n",
    "- - Ilmu untuk membuat komputer dapat \"melihat\" dan memahami gambar/video.\n",
    "- - Contoh: Face Recognition, Autonomous Cars, Medical Imaging.\n",
    "\n",
    "- Historical Overview\n",
    "- - 1960s: Edge detection awal.\n",
    "- - 1990s: Machine learning untuk object recognition.\n",
    "- - 2012: CNN (AlexNet) memicu revolusi Deep Learning.\n",
    "\n",
    "- Applications of Computer Vision\n",
    "- - Healthcare (deteksi penyakit dari X-ray/CT).\n",
    "- - Retail (self-checkout).\n",
    "- - Security (CCTV + face recognition).\n",
    "\n",
    "- Introduction to Python and OpenCV\n",
    "- - Instalasi OpenCV.\n",
    "- - Membaca dan menampilkan gambar."
   ]
  },
  {
   "cell_type": "code",
   "execution_count": null,
   "metadata": {},
   "outputs": [],
   "source": [
    "!pip install opencv-python matplotlib\n",
    "import cv2\n",
    "import matplotlib.pyplot as plt\n",
    "import urllib.request\n",
    "\n",
    "url = 'https://upload.wikimedia.org/wikipedia/commons/4/47/PNG_transparency_demonstration_1.png'\n",
    "urllib.request.urlretrieve(url, 'sample.png')\n",
    "\n",
    "img = cv2.imread('sample.png')\n",
    "img_rgb = cv2.cvtColor(img, cv2.COLOR_BGR2RGB)\n",
    "plt.imshow(img_rgb)\n",
    "plt.title('Sample Image')\n",
    "plt.axis('off')\n",
    "plt.show()"
   ]
  }
 ],
 "metadata": {
  "kernelspec": {
   "display_name": "Python 3",
   "language": "python",
   "name": "python3"
  },
  "language_info": {
   "name": "python",
   "version": "3.x"
  }
 },
 "nbformat": 4,
 "nbformat_minor": 2
}
