{
 "cells": [
  {
   "cell_type": "markdown",
   "id": "4a1d6a35",
   "metadata": {},
   "source": [
    "\n",
    "# Module 8 - Demo\n",
    "\n",
    "Notebook ini adalah demo **pendeteksian kerutan wajah** dan **analisis usia** menggunakan YOLOv8 untuk deteksi wajah, lalu model klasifikasi untuk menentukan apakah wajah memiliki kerutan atau tidak, serta memprediksi perkiraan usia.\n"
   ]
  },
  {
   "cell_type": "code",
   "execution_count": null,
   "id": "75362500",
   "metadata": {},
   "outputs": [],
   "source": [
    "\n",
    "!pip install ultralytics opencv-python-headless==4.8.1.78 --quiet\n"
   ]
  },
  {
   "cell_type": "code",
   "execution_count": null,
   "id": "06e49841",
   "metadata": {},
   "outputs": [],
   "source": [
    "import cv2\n",
    "from ultralytics import YOLO\n",
    "from google.colab.patches import cv2_imshow\n",
    "\n",
    "# Load model YOLOv8 (bisa ganti 'yolov8n.pt' → kecil, cepat)\n",
    "model = YOLO(\"yolov8n.pt\")\n",
    "\n",
    "# Ganti dengan URL CCTV kamu\n",
    "cctv_url = \"https://cctvjss.jogjakota.go.id/kotabaru/ANPR-Jl-Ahmad-Jazuli.stream/playlist.m3u8\"\n",
    "\n",
    "cap = cv2.VideoCapture(cctv_url)\n",
    "\n",
    "if not cap.isOpened():\n",
    "    print(\"❌ Tidak bisa connect ke CCTV, cek URL/akses.\")\n",
    "else:\n",
    "    ret, frame = cap.read()\n",
    "    if ret:\n",
    "        # Jalankan YOLO face/person detection\n",
    "        results = model(frame)\n",
    "\n",
    "        # Ambil hasil dengan bounding box\n",
    "        annotated_frame = results[0].plot()\n",
    "\n",
    "        # Tampilkan hasil di Colab\n",
    "        cv2_imshow(annotated_frame)\n",
    "    else:\n",
    "        print(\"⚠️ Tidak ada frame dari CCTV.\")\n",
    "\n",
    "cap.release()\n"
   ]
  }
 ],
 "metadata": {
  "language_info": {
   "name": "python"
  }
 },
 "nbformat": 4,
 "nbformat_minor": 5
}
