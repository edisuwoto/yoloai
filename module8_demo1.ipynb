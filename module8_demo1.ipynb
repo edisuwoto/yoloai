{
 "cells": [
  {
   "cell_type": "markdown",
   "id": "4a1d6a35",
   "metadata": {},
   "source": [
    "\n",
    "# Module 8 - Demo\n",
    "\n",
    "Tool untuk demomenggunakan colab\n"
   ]
  },
  {
   "cell_type": "code",
   "execution_count": null,
   "id": "75362500",
   "metadata": {},
   "outputs": [],
   "source": [
    "\n",
    "!pip install ultralytics opencv-python-headless==4.9.0.80 --upgrade\n"
   ]
  },
  {
   "cell_type": "code",
   "execution_count": null,
   "id": "06e49841",
   "metadata": {},
   "outputs": [],
   "source": [
    "import cv2\n",
    "from ultralytics import YOLO\n",
    "from google.colab.patches import cv2_imshow\n",
    "\n",
    "# Load model YOLOv8 (misal pakai pre-trained face detection, di sini kita coba COCO general)\n",
    "model = YOLO(\"yolov8n.pt\")  # bisa diganti model wajah custom jika ada\n",
    "\n",
    "# Masukkan URL stream CCTV\n",
    "cctv_url = \"http://103.195.65.218/streams/1titik.m3u8\"  # ganti dengan URL CCTV kamu\n",
    "\n",
    "# Buka stream CCTV\n",
    "cap = cv2.VideoCapture(cctv_url)\n",
    "\n",
    "if not cap.isOpened():\n",
    "    print(\"⚠️ Gagal membuka stream CCTV. Cek URL atau koneksi.\")\n",
    "else:\n",
    "    frame_count = 0\n",
    "    while True:\n",
    "        ret, frame = cap.read()\n",
    "        if not ret:\n",
    "            print(\"⚠️ Tidak bisa membaca frame dari CCTV\")\n",
    "            break\n",
    "\n",
    "        # Deteksi dengan YOLO\n",
    "        results = model(frame)\n",
    "        annotated_frame = results[0].plot()\n",
    "\n",
    "        # Tampilkan setiap 10 frame saja supaya tidak berat di Colab\n",
    "        if frame_count % 10 == 0:\n",
    "            print(f\"Frame ke-{frame_count}\")\n",
    "            cv2_imshow(annotated_frame)\n",
    "\n",
    "        frame_count += 1\n",
    "\n",
    "        # Batasi hanya 50 frame biar Colab tidak hang\n",
    "        if frame_count > 50:\n",
    "            break\n",
    "\n",
    "cap.release()\n",
    "print(\"✅ Selesai deteksi CCTV\")\n"
   ]
  }
 ],
 "metadata": {
  "language_info": {
   "name": "python"
  }
 },
 "nbformat": 4,
 "nbformat_minor": 5
}
