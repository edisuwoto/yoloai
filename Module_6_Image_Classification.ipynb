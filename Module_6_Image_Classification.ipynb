{
 "cells": [
  {
   "cell_type": "markdown",
   "metadata": {},
   "source": [
    "# Module 6: Image Recognition and Classification\n",
    "- Image Classification Basics\n",
    "- - Input → CNN → Output (label kelas).\n",
    "- Convolutional Neural Network (CNN)\n",
    "- - Conv, Pooling, Fully Connected Layers.\n",
    "- Training CNN for Image Classification\n",
    "- - Dataset CIFAR-10/MNIST.\n",
    "- Evaluation Metrics for Classification\n",
    "- - Accuracy, Precision, Recall, F1-score, Confusion Matrix."
   ]
  },
  {
   "cell_type": "code",
   "execution_count": null,
   "metadata": {},
   "outputs": [],
   "source": [
    "!pip install tensorflow matplotlib --quiet\n",
    "\n",
    "import tensorflow as tf\n",
    "from tensorflow.keras import datasets, layers, models\n",
    "import matplotlib.pyplot as plt\n",
    "\n",
    "# Load dataset CIFAR-10\n",
    "(train_images, train_labels), (test_images, test_labels) = datasets.cifar10.load_data()\n",
    "\n",
    "# Normalisasi\n",
    "train_images, test_images = train_images / 255.0, test_images / 255.0\n",
    "\n",
    "# Definisi model CNN\n",
    "model = models.Sequential([\n",
    "    layers.Conv2D(32, (3,3), activation='relu', input_shape=(32, 32, 3)),\n",
    "    layers.MaxPooling2D((2, 2)),\n",
    "    layers.Flatten(),\n",
    "    layers.Dense(64, activation='relu'),\n",
    "    layers.Dense(10, activation=\"softmax\")   # ← pakai softmax biar output probability\n",
    "])\n",
    "\n",
    "# Compile model\n",
    "model.compile(\n",
    "    optimizer='adam',\n",
    "    loss=tf.keras.losses.SparseCategoricalCrossentropy(from_logits=False),  # ← disesuaikan dengan softmax\n",
    "    metrics=['accuracy']\n",
    ")\n",
    "\n",
    "# Training (coba 1 epoch dulu biar cepat)\n",
    "history = model.fit(\n",
    "    train_images, train_labels,\n",
    "    epochs=1,\n",
    "    validation_data=(test_images, test_labels)\n",
    ")\n",
    "\n",
    "# Plot hasil training\n",
    "plt.plot(history.history['accuracy'], label='train acc')\n",
    "plt.plot(history.history['val_accuracy'], label='val acc')\n",
    "plt.legend()\n",
    "plt.show()\n"
   ]
  }
 ],
 "metadata": {
  "kernelspec": {
   "display_name": "Python 3",
   "language": "python",
   "name": "python3"
  }
 },
 "nbformat": 4,
 "nbformat_minor": 2
}
