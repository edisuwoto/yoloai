{
 "cells": [
  {
   "cell_type": "markdown",
   "id": "4a1d6a35",
   "metadata": {},
   "source": [
    "\n",
    "# Module 8 - Deteksi Kerutan Wajah & Analisis Usia dengan YOLOv8\n",
    "\n",
    "Notebook ini adalah demo **pendeteksian kerutan wajah** dan **analisis usia** menggunakan YOLOv8 untuk deteksi wajah, lalu model klasifikasi untuk menentukan apakah wajah memiliki kerutan atau tidak, serta memprediksi perkiraan usia.\n"
   ]
  },
  {
   "cell_type": "code",
   "execution_count": null,
   "id": "75362500",
   "metadata": {},
   "outputs": [],
   "source": [
    "\n",
    "!pip install ultralytics opencv-python matplotlib numpy deepface --quiet\n"
   ]
  },
  {
   "cell_type": "code",
   "execution_count": null,
   "id": "c748ef15",
   "metadata": {},
   "outputs": [],
   "source": [
    "\n",
    "import cv2\n",
    "import numpy as np\n",
    "import urllib.request\n",
    "import matplotlib.pyplot as plt\n",
    "from ultralytics import YOLO\n",
    "from deepface import DeepFace\n",
    "\n",
    "# Fungsi untuk menampilkan gambar\n",
    "def show_image(img, title=\"\"):\n",
    "    plt.imshow(cv2.cvtColor(img, cv2.COLOR_BGR2RGB))\n",
    "    plt.title(title)\n",
    "    plt.axis(\"off\")\n",
    "    plt.show()\n"
   ]
  },
  {
   "cell_type": "code",
   "execution_count": null,
   "id": "2b13b30e",
   "metadata": {},
   "outputs": [],
   "source": [
    "\n",
    "# Model YOLOv8 untuk deteksi wajah (gunakan model pre-trained yang support face detection)\n",
    "# Bisa menggunakan custom face model jika sudah ada\n",
    "face_model = YOLO(\"yolov8n.pt\")  # default model, demo saja\n",
    "\n",
    "print(\"Model YOLOv8 siap digunakan.\")\n"
   ]
  },
  {
   "cell_type": "code",
   "execution_count": null,
   "id": "58045bde",
   "metadata": {},
   "outputs": [],
   "source": [
    "\n",
    "# Contoh gambar\n",
    "image_url = \"https://raw.githubusercontent.com/edisuwoto/yoloai/main/face/image1.jpg\"\n",
    "image_path = \"image1.jpg\"\n",
    "\n",
    "# Download gambar dari URL\n",
    "urllib.request.urlretrieve(image_url, image_path)\n",
    "\n",
    "# Baca gambar\n",
    "img = cv2.imread(image_path)\n",
    "\n",
    "# Tampilkan\n",
    "def show_image(img, title=\"Image\"):\n",
    "    import matplotlib.pyplot as plt\n",
    "    img_rgb = cv2.cvtColor(img, cv2.COLOR_BGR2RGB)\n",
    "    plt.imshow(img_rgb)\n",
    "    plt.title(title)\n",
    "    plt.axis('off')\n",
    "    plt.show()\n",
    "\n",
    "show_image(img, \"Contoh Gambar Wajah\")\n"
   ]
  },
  {
   "cell_type": "code",
   "execution_count": null,
   "id": "9716371e",
   "metadata": {},
   "outputs": [],
   "source": [
    "\n",
    "results = face_model.predict(img, conf=0.25)\n",
    "\n",
    "for r in results:\n",
    "    boxes = r.boxes.xyxy.cpu().numpy()\n",
    "    for (x1, y1, x2, y2) in boxes:\n",
    "        face = img[int(y1):int(y2), int(x1):int(x2)]\n",
    "        show_image(face, \"Wajah Terdeteksi\")\n",
    "\n",
    "print(f\"Jumlah wajah terdeteksi: {len(boxes)}\")\n"
   ]
  },
  {
   "cell_type": "code",
   "execution_count": null,
   "id": "06e49841",
   "metadata": {},
   "outputs": [],
   "source": [
    "\n",
    "for (x1, y1, x2, y2) in boxes:\n",
    "    face = img[int(y1):int(y2), int(x1):int(x2)]\n",
    "    \n",
    "    # Analisis usia dengan DeepFace\n",
    "    analysis = DeepFace.analyze(face, actions=[\"age\"], enforce_detection=False)\n",
    "    age = analysis[0]['age']\n",
    "    \n",
    "    # Sederhana: jika umur > 50 dianggap keriput (demo)\n",
    "    wrinkle_status = \"Keriput\" if age > 50 else \"Tidak Keriput\"\n",
    "    \n",
    "    print(f\"Perkiraan Usia: {age} tahun → {wrinkle_status}\")\n",
    "    show_image(face, f\"{wrinkle_status} - Usia {age} tahun\")\n"
   ]
  }
 ],
 "metadata": {
  "language_info": {
   "name": "python"
  }
 },
 "nbformat": 4,
 "nbformat_minor": 5
}
