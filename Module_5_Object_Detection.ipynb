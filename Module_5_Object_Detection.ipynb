{
 "cells": [
  {
   "cell_type": "markdown",
   "source": [
    "# Module 5: Object Detection\n",
    "## Tujuan\n",
    "- Mendeteksi objek dalam gambar menggunakan metode klasik dan deep learning"
   ],
   "metadata": {}
  },
  {
   "cell_type": "code",
   "source": [
    "!pip install opencv-python matplotlib\n",
    "import cv2\n",
    "import matplotlib.pyplot as plt\n",
    "import urllib.request\n",
    "\n",
    "url = 'https://upload.wikimedia.org/wikipedia/commons/3/37/Face_of_a_girl.jpg'\n",
    "urllib.request.urlretrieve(url, 'face.jpg')\n",
    "\n",
    "face_cascade = cv2.CascadeClassifier(cv2.data.haarcascades + 'haarcascade_frontalface_default.xml')\n",
    "img = cv2.imread('face.jpg')\n",
    "gray = cv2.cvtColor(img, cv2.COLOR_BGR2GRAY)\n",
    "faces = face_cascade.detectMultiScale(gray, 1.1, 4)\n",
    "for (x, y, w, h) in faces:\n",
    "    cv2.rectangle(img, (x, y), (x+w, y+h), (255, 0, 0), 2)\n",
    "plt.imshow(cv2.cvtColor(img, cv2.COLOR_BGR2RGB))\n",
    "plt.axis('off')\n",
    "plt.show()"
   ],
   "metadata": {},
   "execution_count": null,
   "outputs": []
  }
 ],
 "metadata": {
  "kernelspec": {
   "display_name": "Python 3",
   "language": "python",
   "name": "python3"
  }
 },
 "nbformat": 4,
 "nbformat_minor": 2
}