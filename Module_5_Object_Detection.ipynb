{
 "cells": [
  {
   "cell_type": "markdown",
   "metadata": {},
   "source": [
    "# Module 5: Object Detection\n",
    "- Haar Cascades and Object Detection\n",
    "- - Deteksi wajah klasik dengan cascade classifier.\n",
    "- Histogram of Oriented Gradients (HOG)\n",
    "- - Digunakan pada pedestrian detection.\n",
    "- Deep Learning for Object Detection\n",
    "- - YOLOv8, Faster R-CNN.\n",
    "- Transfer Learning with Pre-trained Models\n",
    "- - Fine-tuning YOLOv8 pada dataset custom."
   ]
  },
  {
   "cell_type": "code",
   "execution_count": null,
   "metadata": {},
   "outputs": [],
   "source": [
    "!pip install opencv-python matplotlib --quiet\n",
    "import cv2\n",
    "import matplotlib.pyplot as plt\n",
    "import urllib.request\n",
    "\n",
    "# Ganti dengan URL gambar yang valid\n",
    "url = 'https://raw.githubusercontent.com/edisuwoto/yoloai/main/face/lena.png'\n",
    "urllib.request.urlretrieve(url, 'face.png')\n",
    "\n",
    "# Load face detector Haarcascade\n",
    "face_cascade = cv2.CascadeClassifier(cv2.data.haarcascades + 'haarcascade_frontalface_default.xml')\n",
    "\n",
    "# Baca gambar\n",
    "img = cv2.imread('face.png')\n",
    "gray = cv2.cvtColor(img, cv2.COLOR_BGR2GRAY)\n",
    "\n",
    "# Deteksi wajah\n",
    "faces = face_cascade.detectMultiScale(gray, 1.1, 4)\n",
    "\n",
    "# Gambar kotak pada wajah yang terdeteksi\n",
    "for (x, y, w, h) in faces:\n",
    "    cv2.rectangle(img, (x, y), (x+w, y+h), (255, 0, 0), 2)\n",
    "\n",
    "# Tampilkan hasil\n",
    "plt.imshow(cv2.cvtColor(img, cv2.COLOR_BGR2RGB))\n",
    "plt.axis('off')\n",
    "plt.show()\n"
   ]
  }
 ],
 "metadata": {
  "kernelspec": {
   "display_name": "Python 3",
   "language": "python",
   "name": "python3"
  }
 },
 "nbformat": 4,
 "nbformat_minor": 2
}
