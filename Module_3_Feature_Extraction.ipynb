{
 "cells": [
  {
   "cell_type": "markdown",
   "metadata": {},
   "source": [
    "# Module 3: Image Transformation and Feature Extraction\n",
    "- Geometric Transformations\n",
    "- - Translation, Rotation, Scaling.\n",
    "- Image Enhancement Techniques\n",
    "- - Sharpening, CLAHE.\n",
    "- Feature Extraction\n",
    "- - Deskriptor: SIFT, SURF, ORB.\n",
    "- Corner and Edge Detection\n",
    "- - Harris Corner Detector, Canny Edge Detector."
   ]
  },
  {
   "cell_type": "code",
   "execution_count": null,
   "metadata": {},
   "outputs": [],
   "source": [
    "!pip install opencv-python matplotlib\n",
    "import cv2\n",
    "import matplotlib.pyplot as plt\n",
    "import urllib.request\n",
    "\n",
    "url = 'https://raw.githubusercontent.com/edisuwoto/yoloai/main/face/lena.png'\n",
    "urllib.request.urlretrieve(url, 'lenna.png')\n",
    "\n",
    "img = cv2.imread('lenna.png', cv2.IMREAD_GRAYSCALE)\n",
    "edges = cv2.Canny(img, 100, 200)\n",
    "\n",
    "plt.subplot(1,2,1)\n",
    "plt.imshow(img, cmap='gray')\n",
    "plt.title('Original')\n",
    "plt.subplot(1,2,2)\n",
    "plt.imshow(edges, cmap='gray')\n",
    "plt.title('Canny Edges')\n",
    "plt.show()"
   ]
  }
 ],
 "metadata": {
  "kernelspec": {
   "display_name": "Python 3",
   "language": "python",
   "name": "python3"
  }
 },
 "nbformat": 4,
 "nbformat_minor": 2
}
