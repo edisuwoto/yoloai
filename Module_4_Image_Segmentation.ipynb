{
 "cells": [
  {
   "cell_type": "markdown",
   "metadata": {},
   "source": [
    "# Module 4: Image Segmentation\n",
    "- Thresholding\n",
    "- - Global vs Adaptive threshold.\n",
    "- Region-based Segmentation\n",
    "- - Region Growing.\n",
    "- Edge-based Segmentation\n",
    "- - Menggunakan gradient & edge detection.\n",
    "- Watershed Segmentation\n",
    "- - Segmentasi berbasis topologi."
   ]
  },
  {
   "cell_type": "code",
   "execution_count": null,
   "metadata": {},
   "outputs": [],
   "source": [
    "!pip install opencv-python matplotlib\n",
    "import cv2\n",
    "import matplotlib.pyplot as plt\n",
    "import urllib.request\n",
    "\n",
    "url = 'https://raw.githubusercontent.com/edisuwoto/yoloai/main/face/lena.png'\n",
    "urllib.request.urlretrieve(url, 'dog.png')\n",
    "\n",
    "img = cv2.imread('dog.png', cv2.IMREAD_GRAYSCALE)\n",
    "ret, thresh = cv2.threshold(img, 127, 255, cv2.THRESH_BINARY)\n",
    "\n",
    "plt.subplot(1,2,1)\n",
    "plt.imshow(img, cmap='gray')\n",
    "plt.title('Original')\n",
    "plt.subplot(1,2,2)\n",
    "plt.imshow(thresh, cmap='gray')\n",
    "plt.title('Thresholded')\n",
    "plt.show()"
   ]
  }
 ],
 "metadata": {
  "kernelspec": {
   "display_name": "Python 3",
   "language": "python",
   "name": "python3"
  }
 },
 "nbformat": 4,
 "nbformat_minor": 2
}
