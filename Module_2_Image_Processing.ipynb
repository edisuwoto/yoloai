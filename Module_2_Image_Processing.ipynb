{
 "cells": [
  {
   "cell_type": "markdown",
   "source": [
    "# Module 2: Image Processing and Enhancement\n",
    "## Tujuan\n",
    "- Menguasai teknik dasar pengolahan citra\n",
    "- Menggunakan filter, histogram, dan noise reduction"
   ],
   "metadata": {}
  },
  {
   "cell_type": "code",
   "source": [
    "!pip install opencv-python matplotlib\n",
    "import cv2\n",
    "import matplotlib.pyplot as plt\n",
    "import urllib.request\n",
    "\n",
    "url = 'https://upload.wikimedia.org/wikipedia/commons/2/24/Lenna.png'\n",
    "urllib.request.urlretrieve(url, 'lenna.png')\n",
    "\n",
    "img = cv2.imread('lenna.png', cv2.IMREAD_GRAYSCALE)\n",
    "blur = cv2.GaussianBlur(img, (5,5), 0)\n",
    "\n",
    "plt.subplot(1,2,1)\n",
    "plt.imshow(img, cmap='gray')\n",
    "plt.title('Original')\n",
    "plt.subplot(1,2,2)\n",
    "plt.imshow(blur, cmap='gray')\n",
    "plt.title('Gaussian Blur')\n",
    "plt.show()"
   ],
   "metadata": {},
   "execution_count": null,
   "outputs": []
  }
 ],
 "metadata": {
  "kernelspec": {
   "display_name": "Python 3",
   "language": "python",
   "name": "python3"
  }
 },
 "nbformat": 4,
 "nbformat_minor": 2
}