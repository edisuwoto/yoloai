{
 "cells": [
  {
   "cell_type": "markdown",
   "metadata": {},
   "source": [
    "# Module 2: Image Processing and Enhancement\n",
    "- Basics of Image Processing\n",
    "- - Pixel, warna (RGB, Grayscale).\n",
    "- Image Filtering and Convolution\n",
    "- - Gaussian Blur, Sobel Filter.\n",
    "- Histogram Equalization\n",
    "- - Peningkatan kontras.\n",
    "- Noise Reduction\n",
    "- - Median filter, Bilateral filter."
   ]
  },
  {
   "cell_type": "code",
   "execution_count": null,
   "metadata": {},
   "outputs": [],
   "source": [
    "!pip install opencv-python matplotlib --quiet\n",
    "\n",
    "import cv2\n",
    "import matplotlib.pyplot as plt\n",
    "import urllib.request\n",
    "\n",
    "# URL valid untuk gambar Lenna\n",
    "url = \"https://raw.githubusercontent.com/edisuwoto/yoloai/main/face/lena.png\"\n",
    "urllib.request.urlretrieve(url, \"lenna.png\")\n",
    "\n",
    "# Baca gambar dalam grayscale\n",
    "img = cv2.imread(\"lenna.png\", cv2.IMREAD_GRAYSCALE)\n",
    "\n",
    "# Aplikasikan Gaussian Blur\n",
    "blur = cv2.GaussianBlur(img, (5,5), 0)\n",
    "\n",
    "# Tampilkan hasil\n",
    "plt.figure(figsize=(10,5))\n",
    "plt.subplot(1,2,1)\n",
    "plt.imshow(img, cmap=\"gray\")\n",
    "plt.title(\"Original\")\n",
    "plt.axis(\"off\")\n",
    "\n",
    "plt.subplot(1,2,2)\n",
    "plt.imshow(blur, cmap=\"gray\")\n",
    "plt.title(\"Gaussian Blur\")\n",
    "plt.axis(\"off\")\n",
    "\n",
    "plt.show()\n"
   ]
  }
 ],
 "metadata": {
  "kernelspec": {
   "display_name": "Python 3",
   "language": "python",
   "name": "python3"
  }
 },
 "nbformat": 4,
 "nbformat_minor": 2
}
